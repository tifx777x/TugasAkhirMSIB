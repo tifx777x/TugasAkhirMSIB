{
 "cells": [
  {
   "cell_type": "code",
   "execution_count": null,
   "id": "351154f4-564e-47b9-89c2-74c88a5cf491",
   "metadata": {},
   "outputs": [],
   "source": [
    "import tensorflow as tf\n",
    "\n",
    "# Load TFLite model\n",
    "interpreter = tf.lite.Interpreter(model_path='model/emotion_model.tflite')\n",
    "interpreter.allocate_tensors()\n",
    "\n",
    "# Get model input/output details\n",
    "input_details = interpreter.get_input_details()\n",
    "output_details = interpreter.get_output_details()\n",
    "\n",
    "print(\"Model TFLite loaded successfully.\")"
   ]
  },
  {
   "cell_type": "code",
   "execution_count": 3,
   "id": "fc491a13-f059-4498-a7a1-a8db7ae27a22",
   "metadata": {},
   "outputs": [],
   "source": [
    "import cv2\n",
    "import numpy as np\n",
    "\n",
    "# Classes for emotion\n",
    "EMOTION_CLASSES = ['angry', 'disgust', 'fear', 'happy', 'sad', 'surprise', 'neutral']\n",
    "\n",
    "def predict_emotion(frame):\n",
    "    # Convert to grayscale\n",
    "    gray_frame = cv2.cvtColor(frame, cv2.COLOR_BGR2GRAY)\n",
    "\n",
    "    # Resize and normalize\n",
    "    face_resized = cv2.resize(gray_frame, (48, 48))\n",
    "    face_resized = face_resized.astype('float32') / 255.0\n",
    "    input_data = np.expand_dims(face_resized, axis=0)  # Add batch dimension\n",
    "    input_data = np.expand_dims(input_data, axis=-1)  # Add channel dimension\n",
    "\n",
    "    # Predict using TFLite model\n",
    "    interpreter.set_tensor(input_details[0]['index'], input_data)\n",
    "    interpreter.invoke()\n",
    "    output_data = interpreter.get_tensor(output_details[0]['index'])\n",
    "    emotion_index = np.argmax(output_data)\n",
    "\n",
    "    return EMOTION_CLASSES[emotion_index]"
   ]
  },
  {
   "cell_type": "code",
   "execution_count": 11,
   "id": "e47b96d8-2073-48cc-ace0-c6bad7d08aa9",
   "metadata": {},
   "outputs": [
    {
     "name": "stdout",
     "output_type": "stream",
     "text": [
      "Detected Emotion: surprise\n"
     ]
    }
   ],
   "source": [
    "# Access camera\n",
    "cap = cv2.VideoCapture(0)\n",
    "if not cap.isOpened():\n",
    "    print(\"Error: Unable to access camera.\")\n",
    "    cap.release()\n",
    "else:\n",
    "    ret, frame = cap.read()\n",
    "    cap.release()\n",
    "\n",
    "    if ret:\n",
    "        # Predict emotion\n",
    "        detected_emotion = predict_emotion(frame)\n",
    "        print(f\"Detected Emotion: {detected_emotion}\")\n",
    "    else:\n",
    "        print(\"Error: Unable to read frame.\")"
   ]
  },
  {
   "cell_type": "code",
   "execution_count": null,
   "id": "983105d9-6f13-4eb2-b640-f40afcbb3682",
   "metadata": {},
   "outputs": [
    {
     "name": "stdout",
     "output_type": "stream",
     "text": [
      " * Serving Flask app '__main__'\n",
      " * Debug mode: off\n"
     ]
    },
    {
     "name": "stderr",
     "output_type": "stream",
     "text": [
      "INFO:werkzeug:\u001b[31m\u001b[1mWARNING: This is a development server. Do not use it in a production deployment. Use a production WSGI server instead.\u001b[0m\n",
      " * Running on all addresses (0.0.0.0)\n",
      " * Running on http://127.0.0.1:5000\n",
      " * Running on http://192.168.18.179:5000\n",
      "INFO:werkzeug:\u001b[33mPress CTRL+C to quit\u001b[0m\n",
      "INFO:werkzeug:127.0.0.1 - - [02/Dec/2024 08:30:32] \"\u001b[33mGET / HTTP/1.1\u001b[0m\" 404 -\n",
      "INFO:werkzeug:127.0.0.1 - - [02/Dec/2024 08:30:34] \"\u001b[33mGET / HTTP/1.1\u001b[0m\" 404 -\n"
     ]
    }
   ],
   "source": [
    "from flask import Flask, jsonify\n",
    "\n",
    "app = Flask(__name__)\n",
    "\n",
    "@app.route('/detect_emotion', methods=['GET'])\n",
    "def detect_emotion_endpoint():\n",
    "    cap = cv2.VideoCapture(0)\n",
    "    if not cap.isOpened():\n",
    "        return jsonify({'error': 'Unable to access camera.'}), 500\n",
    "\n",
    "    ret, frame = cap.read()\n",
    "    cap.release()\n",
    "\n",
    "    if not ret:\n",
    "        return jsonify({'error': 'Unable to capture image.'}), 500\n",
    "\n",
    "    emotion = predict_emotion(frame)\n",
    "    return jsonify({'emotion': emotion}), 200\n",
    "\n",
    "# Jalankan API\n",
    "app.run(host='0.0.0.0', port=5000)"
   ]
  },
  {
   "cell_type": "code",
   "execution_count": 14,
   "id": "e02cc782-ce5f-40da-8a17-a63e8a1f464a",
   "metadata": {},
   "outputs": [
    {
     "name": "stderr",
     "output_type": "stream",
     "text": [
      "WARNING:absl:Compiled the loaded model, but the compiled metrics have yet to be built. `model.compile_metrics` will be empty until you train or evaluate the model.\n"
     ]
    }
   ],
   "source": [
    "import cv2\n",
    "import numpy as np\n",
    "import pandas as pd\n",
    "from tensorflow.keras.models import load_model\n",
    "\n",
    "# Muat model deteksi ekspresi wajah\n",
    "model = load_model('emotion_model.h5')  # Pastikan Anda memiliki model deteksi ekspresi wajah\n",
    "\n",
    "# Muat dataset movies.csv untuk rekomendasi\n",
    "movies_df = pd.read_csv('dataset/processed_movies.csv')\n",
    "\n",
    "# Daftar ekspresi yang dapat dikenali\n",
    "emotion_labels = ['Angry', 'Disguist', 'Fear', 'Happy', 'Sad', 'Surprise', 'Neutral']\n",
    "\n",
    "# Muat model deteksi wajah\n",
    "face_cascade = cv2.CascadeClassifier(cv2.data.haarcascades + 'haarcascade_frontalface_default.xml')\n",
    "\n",
    "# Fungsi untuk merekomendasikan film berdasarkan ekspresi\n",
    "def recommend_movies(emotion):\n",
    "    recommendations = {\n",
    "        'Happy': ['Comedy', 'Romantic', 'Action'],\n",
    "        'Sad': ['Comedy','Drama', 'Romantic'],\n",
    "        'Angry': ['Action', 'Thriller','Comedy'],\n",
    "        'Fear': ['Horror', 'Mystery'],\n",
    "        'Surprise': ['Sci-Fi', 'Action','Thriller'],\n",
    "        'Neutral': ['Adventure', 'Animation'],\n",
    "        'Disguist': ['Horror', 'Thriller']\n",
    "    }\n",
    "\n",
    "    genres = recommendations.get(emotion, ['General'])\n",
    "    recommended_movies = movies_df[movies_df['genre'].isin(genres)]\n",
    "    return recommended_movies[['title', 'genre']]\n",
    "\n",
    "# Fungsi untuk mendeteksi wajah dan ekspresi\n",
    "def detect_emotion_from_face():\n",
    "    cap = cv2.VideoCapture(0)\n",
    "    while True:\n",
    "        ret, frame = cap.read()\n",
    "        if not ret:\n",
    "            break\n",
    "\n",
    "        gray = cv2.cvtColor(frame, cv2.COLOR_BGR2GRAY)\n",
    "        faces = face_cascade.detectMultiScale(gray, 1.1, 4)\n",
    "\n",
    "        for (x, y, w, h) in faces:\n",
    "            face = frame[y:y + h, x:x + w]\n",
    "            face = cv2.cvtColor(face, cv2.COLOR_BGR2GRAY)\n",
    "            face = cv2.resize(face, (48, 48))\n",
    "            face = face / 255.0\n",
    "            face = np.expand_dims(face, axis=0)\n",
    "            face = np.expand_dims(face, axis=-1)\n",
    "\n",
    "            # Prediksi ekspresi wajah\n",
    "            emotion_prob = model.predict(face)\n",
    "            max_index = np.argmax(emotion_prob[0])\n",
    "            emotion = emotion_labels[max_index]\n",
    "\n",
    "            # Menampilkan ekspresi wajah dan rekomendasi film\n",
    "            recommended_movies = recommend_movies(emotion)\n",
    "            print(f\"Detected Emotion: {emotion}\")\n",
    "            print(\"Recommended Movies:\")\n",
    "            print(recommended_movies)\n",
    "\n",
    "        cap.release()\n",
    "\n",
    "# Menjalankan fungsi deteksi ekspresi wajah\n",
    "if __name__ == \"__main__\":\n",
    "    detect_emotion_from_face()"
   ]
  },
  {
   "cell_type": "code",
   "execution_count": null,
   "id": "1d1ac425-dd6d-491a-ac3a-3442b72d44fc",
   "metadata": {},
   "outputs": [],
   "source": []
  }
 ],
 "metadata": {
  "kernelspec": {
   "display_name": "Python 3 (ipykernel)",
   "language": "python",
   "name": "python3"
  },
  "language_info": {
   "codemirror_mode": {
    "name": "ipython",
    "version": 3
   },
   "file_extension": ".py",
   "mimetype": "text/x-python",
   "name": "python",
   "nbconvert_exporter": "python",
   "pygments_lexer": "ipython3",
   "version": "3.12.4"
  }
 },
 "nbformat": 4,
 "nbformat_minor": 5
}
