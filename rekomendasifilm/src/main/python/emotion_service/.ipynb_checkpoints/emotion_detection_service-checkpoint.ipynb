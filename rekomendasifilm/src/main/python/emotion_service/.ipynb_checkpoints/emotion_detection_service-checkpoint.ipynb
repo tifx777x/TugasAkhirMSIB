{
 "cells": [
  {
   "cell_type": "code",
   "execution_count": 2,
   "id": "351154f4-564e-47b9-89c2-74c88a5cf491",
   "metadata": {},
   "outputs": [
    {
     "name": "stdout",
     "output_type": "stream",
     "text": [
      "Model TFLite loaded successfully.\n"
     ]
    }
   ],
   "source": [
    "import tensorflow as tf\n",
    "\n",
    "# Load TFLite model\n",
    "interpreter = tf.lite.Interpreter(model_path='model/emotion_model.tflite')\n",
    "interpreter.allocate_tensors()\n",
    "\n",
    "# Get model input/output details\n",
    "input_details = interpreter.get_input_details()\n",
    "output_details = interpreter.get_output_details()\n",
    "\n",
    "print(\"Model TFLite loaded successfully.\")"
   ]
  },
  {
   "cell_type": "code",
   "execution_count": 3,
   "id": "fc491a13-f059-4498-a7a1-a8db7ae27a22",
   "metadata": {},
   "outputs": [],
   "source": [
    "import cv2\n",
    "import numpy as np\n",
    "\n",
    "# Classes for emotion\n",
    "EMOTION_CLASSES = ['angry', 'disgust', 'fear', 'happy', 'sad', 'surprise', 'neutral']\n",
    "\n",
    "def predict_emotion(frame):\n",
    "    # Convert to grayscale\n",
    "    gray_frame = cv2.cvtColor(frame, cv2.COLOR_BGR2GRAY)\n",
    "\n",
    "    # Resize and normalize\n",
    "    face_resized = cv2.resize(gray_frame, (48, 48))\n",
    "    face_resized = face_resized.astype('float32') / 255.0\n",
    "    input_data = np.expand_dims(face_resized, axis=0)  # Add batch dimension\n",
    "    input_data = np.expand_dims(input_data, axis=-1)  # Add channel dimension\n",
    "\n",
    "    # Predict using TFLite model\n",
    "    interpreter.set_tensor(input_details[0]['index'], input_data)\n",
    "    interpreter.invoke()\n",
    "    output_data = interpreter.get_tensor(output_details[0]['index'])\n",
    "    emotion_index = np.argmax(output_data)\n",
    "\n",
    "    return EMOTION_CLASSES[emotion_index]"
   ]
  },
  {
   "cell_type": "code",
   "execution_count": 11,
   "id": "e47b96d8-2073-48cc-ace0-c6bad7d08aa9",
   "metadata": {},
   "outputs": [
    {
     "name": "stdout",
     "output_type": "stream",
     "text": [
      "Detected Emotion: surprise\n"
     ]
    }
   ],
   "source": [
    "# Access camera\n",
    "cap = cv2.VideoCapture(0)\n",
    "if not cap.isOpened():\n",
    "    print(\"Error: Unable to access camera.\")\n",
    "    cap.release()\n",
    "else:\n",
    "    ret, frame = cap.read()\n",
    "    cap.release()\n",
    "\n",
    "    if ret:\n",
    "        # Predict emotion\n",
    "        detected_emotion = predict_emotion(frame)\n",
    "        print(f\"Detected Emotion: {detected_emotion}\")\n",
    "    else:\n",
    "        print(\"Error: Unable to read frame.\")"
   ]
  },
  {
   "cell_type": "code",
   "execution_count": 26,
   "id": "983105d9-6f13-4eb2-b640-f40afcbb3682",
   "metadata": {},
   "outputs": [
    {
     "name": "stdout",
     "output_type": "stream",
     "text": [
      " * Serving Flask app '__main__'\n",
      " * Debug mode: off\n"
     ]
    },
    {
     "name": "stderr",
     "output_type": "stream",
     "text": [
      "WARNING: This is a development server. Do not use it in a production deployment. Use a production WSGI server instead.\n",
      " * Running on all addresses (0.0.0.0)\n",
      " * Running on http://127.0.0.1:5000\n",
      " * Running on http://192.168.18.179:5000\n",
      "INFO:werkzeug:\u001b[31m\u001b[1mWARNING: This is a development server. Do not use it in a production deployment. Use a production WSGI server instead.\u001b[0m\n",
      " * Running on all addresses (0.0.0.0)\n",
      " * Running on http://127.0.0.1:5000\n",
      " * Running on http://192.168.18.179:5000\n",
      "Press CTRL+C to quit\n",
      "INFO:werkzeug:\u001b[33mPress CTRL+C to quit\u001b[0m\n",
      "127.0.0.1 - - [02/Dec/2024 03:19:28] \"GET /detect_emotion HTTP/1.1\" 200 -\n",
      "INFO:werkzeug:127.0.0.1 - - [02/Dec/2024 03:19:28] \"GET /detect_emotion HTTP/1.1\" 200 -\n",
      "127.0.0.1 - - [02/Dec/2024 03:19:30] \"GET /detect_emotion HTTP/1.1\" 200 -\n",
      "INFO:werkzeug:127.0.0.1 - - [02/Dec/2024 03:19:30] \"GET /detect_emotion HTTP/1.1\" 200 -\n",
      "127.0.0.1 - - [02/Dec/2024 03:19:33] \"GET /detect_emotion HTTP/1.1\" 200 -\n",
      "INFO:werkzeug:127.0.0.1 - - [02/Dec/2024 03:19:33] \"GET /detect_emotion HTTP/1.1\" 200 -\n"
     ]
    }
   ],
   "source": [
    "from flask import Flask, jsonify\n",
    "\n",
    "app = Flask(__name__)\n",
    "\n",
    "@app.route('/detect_emotion', methods=['GET'])\n",
    "def detect_emotion_endpoint():\n",
    "    cap = cv2.VideoCapture(0)\n",
    "    if not cap.isOpened():\n",
    "        return jsonify({'error': 'Unable to access camera.'}), 500\n",
    "\n",
    "    ret, frame = cap.read()\n",
    "    cap.release()\n",
    "\n",
    "    if not ret:\n",
    "        return jsonify({'error': 'Unable to capture image.'}), 500\n",
    "\n",
    "    emotion = predict_emotion(frame)\n",
    "    return jsonify({'emotion': emotion}), 200\n",
    "\n",
    "# Jalankan API\n",
    "app.run(host='0.0.0.0', port=5000)"
   ]
  },
  {
   "cell_type": "code",
   "execution_count": null,
   "id": "70ff977e-63ef-4d7b-b2b4-8b7f65d089d6",
   "metadata": {},
   "outputs": [
    {
     "name": "stderr",
     "output_type": "stream",
     "text": [
      "WARNING:absl:Compiled the loaded model, but the compiled metrics have yet to be built. `model.compile_metrics` will be empty until you train or evaluate the model.\n"
     ]
    },
    {
     "name": "stdout",
     "output_type": "stream",
     "text": [
      " * Serving Flask app '__main__'\n",
      " * Debug mode: off\n"
     ]
    },
    {
     "name": "stderr",
     "output_type": "stream",
     "text": [
      "WARNING: This is a development server. Do not use it in a production deployment. Use a production WSGI server instead.\n",
      " * Running on all addresses (0.0.0.0)\n",
      " * Running on http://127.0.0.1:5000\n",
      " * Running on http://192.168.18.179:5000\n",
      "INFO:werkzeug:\u001b[31m\u001b[1mWARNING: This is a development server. Do not use it in a production deployment. Use a production WSGI server instead.\u001b[0m\n",
      " * Running on all addresses (0.0.0.0)\n",
      " * Running on http://127.0.0.1:5000\n",
      " * Running on http://192.168.18.179:5000\n",
      "Press CTRL+C to quit\n",
      "INFO:werkzeug:\u001b[33mPress CTRL+C to quit\u001b[0m\n",
      "127.0.0.1 - - [02/Dec/2024 05:17:21] \"GET / HTTP/1.1\" 404 -\n",
      "INFO:werkzeug:127.0.0.1 - - [02/Dec/2024 05:17:21] \"\u001b[33mGET / HTTP/1.1\u001b[0m\" 404 -\n",
      "127.0.0.1 - - [02/Dec/2024 05:17:30] \"GET /recommendations HTTP/1.1\" 404 -\n",
      "INFO:werkzeug:127.0.0.1 - - [02/Dec/2024 05:17:30] \"\u001b[33mGET /recommendations HTTP/1.1\u001b[0m\" 404 -\n",
      "127.0.0.1 - - [02/Dec/2024 05:19:00] \"GET /detect_emotion HTTP/1.1\" 404 -\n",
      "INFO:werkzeug:127.0.0.1 - - [02/Dec/2024 05:19:00] \"\u001b[33mGET /detect_emotion HTTP/1.1\u001b[0m\" 404 -\n",
      "127.0.0.1 - - [02/Dec/2024 05:19:41] \"GET / HTTP/1.1\" 404 -\n",
      "INFO:werkzeug:127.0.0.1 - - [02/Dec/2024 05:19:41] \"\u001b[33mGET / HTTP/1.1\u001b[0m\" 404 -\n",
      "127.0.0.1 - - [02/Dec/2024 05:19:43] \"GET / HTTP/1.1\" 404 -\n",
      "INFO:werkzeug:127.0.0.1 - - [02/Dec/2024 05:19:43] \"\u001b[33mGET / HTTP/1.1\u001b[0m\" 404 -\n",
      "127.0.0.1 - - [02/Dec/2024 05:19:44] \"GET / HTTP/1.1\" 404 -\n",
      "INFO:werkzeug:127.0.0.1 - - [02/Dec/2024 05:19:44] \"\u001b[33mGET / HTTP/1.1\u001b[0m\" 404 -\n",
      "192.168.18.179 - - [02/Dec/2024 05:19:45] \"GET / HTTP/1.1\" 404 -\n",
      "INFO:werkzeug:192.168.18.179 - - [02/Dec/2024 05:19:45] \"\u001b[33mGET / HTTP/1.1\u001b[0m\" 404 -\n"
     ]
    }
   ],
   "source": [
    "import pandas as pd\n",
    "import numpy as np\n",
    "import tensorflow as tf\n",
    "from flask import Flask, jsonify\n",
    "import cv2\n",
    "\n",
    "# Inisialisasi Flask dan model\n",
    "app = Flask(__name__)\n",
    "model = tf.keras.models.load_model('emotion_model.h5')\n",
    "\n",
    "# Load dataset film\n",
    "movies = pd.read_csv('dataset/processed_movies.csv')\n",
    "\n",
    "# Mapping ekspresi ke genre\n",
    "emotion_to_genre = {\n",
    "    \"happy\": [\"Comedy\", \"Romance\"],\n",
    "    \"sad\": [\"Comedy\", \"Family\", \"Adventure\"],\n",
    "    \"angry\": [\"Action\", \"Thriller\"],\n",
    "    \"neutral\": [\"Drama\", \"Family\", \"Fantasy\",\"Romance\"],\n",
    "    \"fear\": [\"Action\",\"Thriller\",\"Fantasy\"],\n",
    "    \"surprise\": [\"Thriller\",\"Horror\",\"Drama\"]\n",
    "}\n",
    "\n",
    "def recommend_movies(genres, top_n=5):\n",
    "    \"\"\"\n",
    "    Rekomendasikan film berdasarkan genre.\n",
    "    :param genres: List genre yang sesuai.\n",
    "    :param top_n: Jumlah rekomendasi film.\n",
    "    :return: Daftar rekomendasi film.\n",
    "    \"\"\"\n",
    "    # Filter film berdasarkan genre\n",
    "    filtered_movies = movies[movies['genres'].apply(lambda x: any(genre in x for genre in genres))]\n",
    "    \n",
    "    # Urutkan berdasarkan popularitas atau rating\n",
    "    recommended = filtered_movies.sort_values(by='vote_average', ascending=False).head(top_n)\n",
    "    return recommended['title'].tolist()\n",
    "\n",
    "@app.route('/detect', methods=['POST'])\n",
    "def detect_emotion():\n",
    "    # Capture wajah dari kamera\n",
    "    cap = cv2.VideoCapture(0)\n",
    "    ret, frame = cap.read()\n",
    "    cap.release()\n",
    "\n",
    "    # Preprocess frame\n",
    "    gray = cv2.cvtColor(frame, cv2.COLOR_BGR2GRAY)\n",
    "    resized = cv2.resize(gray, (48, 48)).reshape(1, 48, 48, 1) / 255.0\n",
    "\n",
    "    # Prediksi ekspresi\n",
    "    predictions = model.predict(resized)\n",
    "    emotion = [\"happy\", \"sad\", \"angry\", \"neutral\",\"fear\",\"surprise\"][np.argmax(predictions)]\n",
    "\n",
    "    # Map ekspresi ke genre\n",
    "    genres = emotion_to_genre[emotion]\n",
    "    recommendations = recommend_movies(genres)\n",
    "\n",
    "    return jsonify({\"emotion\": emotion, \"recommendations\": recommendations})\n",
    "\n",
    "if __name__ == '__main__':\n",
    "    app.run(host='0.0.0.0', port=5000)"
   ]
  },
  {
   "cell_type": "code",
   "execution_count": null,
   "id": "3a732c20-d291-4caf-a4a1-10cea08dec62",
   "metadata": {},
   "outputs": [],
   "source": []
  }
 ],
 "metadata": {
  "kernelspec": {
   "display_name": "Python 3 (ipykernel)",
   "language": "python",
   "name": "python3"
  },
  "language_info": {
   "codemirror_mode": {
    "name": "ipython",
    "version": 3
   },
   "file_extension": ".py",
   "mimetype": "text/x-python",
   "name": "python",
   "nbconvert_exporter": "python",
   "pygments_lexer": "ipython3",
   "version": "3.12.4"
  }
 },
 "nbformat": 4,
 "nbformat_minor": 5
}
