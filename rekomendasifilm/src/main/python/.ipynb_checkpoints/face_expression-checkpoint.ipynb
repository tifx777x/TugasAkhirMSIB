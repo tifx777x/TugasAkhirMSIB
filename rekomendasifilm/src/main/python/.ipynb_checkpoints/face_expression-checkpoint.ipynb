{
 "cells": [
  {
   "cell_type": "code",
   "execution_count": 1,
   "id": "cf985625-670b-4249-9cfd-d709bf2378d4",
   "metadata": {},
   "outputs": [
    {
     "name": "stderr",
     "output_type": "stream",
     "text": [
      "WARNING:absl:Compiled the loaded model, but the compiled metrics have yet to be built. `model.compile_metrics` will be empty until you train or evaluate the model.\n"
     ]
    },
    {
     "name": "stdout",
     "output_type": "stream",
     "text": [
      "\u001b[1m1/1\u001b[0m \u001b[32m━━━━━━━━━━━━━━━━━━━━\u001b[0m\u001b[37m\u001b[0m \u001b[1m0s\u001b[0m 212ms/step\n",
      "Detected Emotion: Surprise\n",
      "Recommended Movies:\n",
      "                                title    genres\n",
      "44                          Furious 7    Action\n",
      "105   Alice Through the Looking Glass   Fantasy\n",
      "161                     Gods of Egypt   Fantasy\n",
      "162                           Stealth    Action\n",
      "560                            Driven    Action\n",
      "584                              Wolf   Fantasy\n",
      "603                         Hard Rain  Thriller\n",
      "708    Maze Runner: The Scorch Trials    Action\n",
      "750                     State of Play    Action\n",
      "803                       DragonHeart   Fantasy\n",
      "936                  Don't Say a Word  Thriller\n",
      "943                          Firewall  Thriller\n",
      "1104                The Bounty Hunter    Action\n",
      "1249                           Torque    Action\n",
      "1346                   Reindeer Games  Thriller\n",
      "1398                        Max Payne    Action\n",
      "1528                         Criminal    Action\n",
      "1634           Assault on Precinct 13  Thriller\n",
      "1701       Once Upon a Time in Mexico    Action\n",
      "1741                        Alatriste    Action\n",
      "1770                    Money Monster  Thriller\n",
      "1848                 Agent Cody Banks    Action\n",
      "2035              Our Kind of Traitor  Thriller\n",
      "2142                            Risen    Action\n",
      "2274                         Survivor  Thriller\n",
      "2309                   Out of Inferno    Action\n",
      "2366                     Dragonslayer   Fantasy\n",
      "2391                       Red Lights  Thriller\n",
      "2401                   City of Ghosts  Thriller\n",
      "2588                A Most Wanted Man  Thriller\n",
      "2602      The Man with the Iron Fists    Action\n",
      "2622                     The In Crowd  Thriller\n",
      "2777                  Excessive Force    Action\n",
      "3142                   American Heist    Action\n",
      "3335                   Pound of Flesh    Action\n",
      "3485                  Only the Strong    Action\n",
      "3657                      Sleep Tight  Thriller\n",
      "3746                The Boy Next Door  Thriller\n",
      "3775                       Mirrormask   Fantasy\n",
      "3848                         D.E.B.S.    Action\n",
      "3968         Enter the Dangerous Mind  Thriller\n",
      "3970                          AWOL-72  Thriller\n",
      "4046                      The Calling  Thriller\n",
      "4128                            Plush  Thriller\n",
      "4137                  Supercapitalist  Thriller\n",
      "4153                       Shark Lake  Thriller\n",
      "4210                       Bloodsport    Action\n",
      "4381     Chocolate: Deep Dark Secrets  Thriller\n",
      "4494                  The Maid's Room  Thriller\n",
      "4705                    Straightheads  Thriller\n",
      "\u001b[1m1/1\u001b[0m \u001b[32m━━━━━━━━━━━━━━━━━━━━\u001b[0m\u001b[37m\u001b[0m \u001b[1m0s\u001b[0m 15ms/step\n",
      "Detected Emotion: Sad\n",
      "Recommended Movies:\n",
      "                       title  genres\n",
      "155   Fun with Dick and Jane  Comedy\n",
      "192                Australia   Drama\n",
      "214        The Perfect Storm   Drama\n",
      "250              The Aviator   Drama\n",
      "251       Gulliver's Travels  Comedy\n",
      "...                      ...     ...\n",
      "4752                 Slacker  Comedy\n",
      "4758    Stories of Our Lives   Drama\n",
      "4762                   Clean   Drama\n",
      "4766          On The Downlow   Drama\n",
      "4768                    Bang   Drama\n",
      "\n",
      "[652 rows x 2 columns]\n"
     ]
    },
    {
     "ename": "error",
     "evalue": "OpenCV(4.10.0) :-1: error: (-5:Bad argument) in function 'imshow'\n> Overload resolution failed:\n>  - Can't convert object to 'str' for 'winname'\n>  - Can't convert object to 'str' for 'winname'\n>  - Can't convert object to 'str' for 'winname'\n",
     "output_type": "error",
     "traceback": [
      "\u001b[1;31m---------------------------------------------------------------------------\u001b[0m",
      "\u001b[1;31merror\u001b[0m                                     Traceback (most recent call last)",
      "Cell \u001b[1;32mIn[1], line 76\u001b[0m\n\u001b[0;32m     74\u001b[0m \u001b[38;5;66;03m# Menjalankan fungsi deteksi ekspresi wajah\u001b[39;00m\n\u001b[0;32m     75\u001b[0m \u001b[38;5;28;01mif\u001b[39;00m \u001b[38;5;18m__name__\u001b[39m \u001b[38;5;241m==\u001b[39m \u001b[38;5;124m\"\u001b[39m\u001b[38;5;124m__main__\u001b[39m\u001b[38;5;124m\"\u001b[39m:\n\u001b[1;32m---> 76\u001b[0m     detect_emotion_from_face()\n",
      "Cell \u001b[1;32mIn[1], line 72\u001b[0m, in \u001b[0;36mdetect_emotion_from_face\u001b[1;34m()\u001b[0m\n\u001b[0;32m     69\u001b[0m     \u001b[38;5;28mprint\u001b[39m(recommended_movies)\n\u001b[0;32m     71\u001b[0m cap\u001b[38;5;241m.\u001b[39mrelease()\n\u001b[1;32m---> 72\u001b[0m cv2\u001b[38;5;241m.\u001b[39mimshow(frame,cap)\n",
      "\u001b[1;31merror\u001b[0m: OpenCV(4.10.0) :-1: error: (-5:Bad argument) in function 'imshow'\n> Overload resolution failed:\n>  - Can't convert object to 'str' for 'winname'\n>  - Can't convert object to 'str' for 'winname'\n>  - Can't convert object to 'str' for 'winname'\n"
     ]
    }
   ],
   "source": [
    "import cv2\n",
    "import numpy as np\n",
    "import pandas as pd\n",
    "from tensorflow.keras.models import load_model\n",
    "\n",
    "# Muat model deteksi ekspresi wajah\n",
    "model = load_model('emotion_model.h5')  # Pastikan Anda memiliki model deteksi ekspresi wajah\n",
    "\n",
    "# Muat dataset movies.csv untuk rekomendasi\n",
    "movies_df = pd.read_csv('emotion_service/dataset/processed_movies.csv')\n",
    "\n",
    "# Daftar ekspresi yang dapat dikenali\n",
    "emotion_labels = ['Angry', 'Disguist', 'Fear', 'Happy', 'Sad', 'Surprise', 'Neutral']\n",
    "\n",
    "# Muat model deteksi wajah\n",
    "face_cascade = cv2.CascadeClassifier(cv2.data.haarcascades + 'haarcascade_frontalface_default.xml')\n",
    "\n",
    "# Fungsi untuk merekomendasikan film berdasarkan ekspresi\n",
    "def recommend_movies(emotion):\n",
    "    recommendations = {\n",
    "        'Happy': ['Comedy', 'Romantic', 'Action'],\n",
    "        'Sad': ['Comedy','Drama', 'Romantic'],\n",
    "        'Angry': ['Action', 'Thriller','Comedy'],\n",
    "        'Fear': ['Horror', 'Mystery'],\n",
    "        'Surprise': ['Fantasy', 'Action','Thriller'],\n",
    "        'Neutral': ['Adventure', 'Animation'],\n",
    "        'Disguist': ['Horror', 'Thriller']\n",
    "    }\n",
    "\n",
    "    genres = recommendations.get(emotion, ['General'])\n",
    "    recommended_movies = movies_df[movies_df['genres'].isin(genres)]\n",
    "    return recommended_movies[['title', 'genres']]\n",
    "\n",
    "# Fungsi untuk mendeteksi wajah dan ekspresi\n",
    "def detect_emotion_from_face():\n",
    "    cap = cv2.VideoCapture(0)\n",
    "    while True:\n",
    "        ret, frame = cap.read()\n",
    "        if not ret:\n",
    "            break\n",
    "\n",
    "        gray = cv2.cvtColor(frame, cv2.COLOR_BGR2GRAY)\n",
    "        faces = face_cascade.detectMultiScale(gray, 1.1, 4)\n",
    "\n",
    "        for (x, y, w, h) in faces:\n",
    "            face = frame[y:y + h, x:x + w]\n",
    "            # Mengubah wajah menjadi RGB dengan tiga saluran warna\n",
    "            face = cv2.cvtColor(face, cv2.COLOR_BGR2RGB)\n",
    "            \n",
    "            # Pastikan dimensi gambar sesuai dengan yang diinginkan model (misalnya 48x48x3)\n",
    "            face = cv2.resize(face, (48, 48))\n",
    "            \n",
    "            # Normalisasi gambar ke rentang [0, 1]\n",
    "            face = face / 255.0\n",
    "            \n",
    "            # Menambahkan dimensi untuk batch dan channel terakhir (48, 48, 3)\n",
    "            face = np.expand_dims(face, axis=0)\n",
    "            \n",
    "            # Prediksi ekspresi wajah\n",
    "            emotion_prob = model.predict(face)\n",
    "            max_index = np.argmax(emotion_prob[0])\n",
    "            emotion = emotion_labels[max_index]\n",
    "\n",
    "\n",
    "            # Menampilkan ekspresi wajah dan rekomendasi film\n",
    "            recommended_movies = recommend_movies(emotion)\n",
    "            print(f\"Detected Emotion: {emotion}\")\n",
    "            print(\"Recommended Movies:\")\n",
    "            print(recommended_movies)\n",
    "    \n",
    "        cap.release()\n",
    "        cv2.imshow(frame,cap)\n",
    "\n",
    "# Menjalankan fungsi deteksi ekspresi wajah\n",
    "if __name__ == \"__main__\":\n",
    "    detect_emotion_from_face()"
   ]
  },
  {
   "cell_type": "code",
   "execution_count": 2,
   "id": "480bf874-1ba6-4e67-9661-12f47eaacfb0",
   "metadata": {},
   "outputs": [
    {
     "name": "stderr",
     "output_type": "stream",
     "text": [
      "WARNING:absl:Compiled the loaded model, but the compiled metrics have yet to be built. `model.compile_metrics` will be empty until you train or evaluate the model.\n"
     ]
    },
    {
     "name": "stdout",
     "output_type": "stream",
     "text": [
      " * Serving Flask app '__main__'\n",
      " * Debug mode: on\n"
     ]
    },
    {
     "name": "stderr",
     "output_type": "stream",
     "text": [
      "INFO:werkzeug:\u001b[31m\u001b[1mWARNING: This is a development server. Do not use it in a production deployment. Use a production WSGI server instead.\u001b[0m\n",
      " * Running on http://127.0.0.1:5000\n",
      "INFO:werkzeug:\u001b[33mPress CTRL+C to quit\u001b[0m\n"
     ]
    },
    {
     "name": "stdout",
     "output_type": "stream",
     "text": [
      "\u001b[1m1/1\u001b[0m \u001b[32m━━━━━━━━━━━━━━━━━━━━\u001b[0m\u001b[37m\u001b[0m \u001b[1m0s\u001b[0m 63ms/step\n"
     ]
    },
    {
     "name": "stderr",
     "output_type": "stream",
     "text": [
      "INFO:werkzeug:127.0.0.1 - - [03/Dec/2024 17:59:36] \"POST /detect_emotion HTTP/1.1\" 200 -\n",
      "INFO:werkzeug:127.0.0.1 - - [03/Dec/2024 17:59:37] \"\u001b[31m\u001b[1mPOST /detect_emotion HTTP/1.1\u001b[0m\" 400 -\n"
     ]
    },
    {
     "name": "stdout",
     "output_type": "stream",
     "text": [
      "\u001b[1m1/1\u001b[0m \u001b[32m━━━━━━━━━━━━━━━━━━━━\u001b[0m\u001b[37m\u001b[0m \u001b[1m0s\u001b[0m 19ms/step\n"
     ]
    },
    {
     "name": "stderr",
     "output_type": "stream",
     "text": [
      "INFO:werkzeug:127.0.0.1 - - [03/Dec/2024 17:59:40] \"POST /detect_emotion HTTP/1.1\" 200 -\n"
     ]
    },
    {
     "name": "stdout",
     "output_type": "stream",
     "text": [
      "\u001b[1m1/1\u001b[0m \u001b[32m━━━━━━━━━━━━━━━━━━━━\u001b[0m\u001b[37m\u001b[0m \u001b[1m0s\u001b[0m 17ms/step\n"
     ]
    },
    {
     "name": "stderr",
     "output_type": "stream",
     "text": [
      "INFO:werkzeug:127.0.0.1 - - [03/Dec/2024 17:59:56] \"POST /detect_emotion HTTP/1.1\" 200 -\n"
     ]
    },
    {
     "name": "stdout",
     "output_type": "stream",
     "text": [
      "\u001b[1m1/1\u001b[0m \u001b[32m━━━━━━━━━━━━━━━━━━━━\u001b[0m\u001b[37m\u001b[0m \u001b[1m0s\u001b[0m 18ms/step\n"
     ]
    },
    {
     "name": "stderr",
     "output_type": "stream",
     "text": [
      "INFO:werkzeug:127.0.0.1 - - [03/Dec/2024 17:59:59] \"POST /detect_emotion HTTP/1.1\" 200 -\n"
     ]
    },
    {
     "name": "stdout",
     "output_type": "stream",
     "text": [
      "\u001b[1m1/1\u001b[0m \u001b[32m━━━━━━━━━━━━━━━━━━━━\u001b[0m\u001b[37m\u001b[0m \u001b[1m0s\u001b[0m 19ms/step\n"
     ]
    },
    {
     "name": "stderr",
     "output_type": "stream",
     "text": [
      "INFO:werkzeug:127.0.0.1 - - [03/Dec/2024 18:00:14] \"POST /detect_emotion HTTP/1.1\" 200 -\n"
     ]
    },
    {
     "name": "stdout",
     "output_type": "stream",
     "text": [
      "\u001b[1m1/1\u001b[0m \u001b[32m━━━━━━━━━━━━━━━━━━━━\u001b[0m\u001b[37m\u001b[0m \u001b[1m0s\u001b[0m 15ms/step\n"
     ]
    },
    {
     "name": "stderr",
     "output_type": "stream",
     "text": [
      "INFO:werkzeug:127.0.0.1 - - [03/Dec/2024 18:00:20] \"POST /detect_emotion HTTP/1.1\" 200 -\n"
     ]
    },
    {
     "name": "stdout",
     "output_type": "stream",
     "text": [
      "\u001b[1m1/1\u001b[0m \u001b[32m━━━━━━━━━━━━━━━━━━━━\u001b[0m\u001b[37m\u001b[0m \u001b[1m0s\u001b[0m 19ms/step\n"
     ]
    },
    {
     "name": "stderr",
     "output_type": "stream",
     "text": [
      "INFO:werkzeug:127.0.0.1 - - [03/Dec/2024 18:00:24] \"POST /detect_emotion HTTP/1.1\" 200 -\n",
      "INFO:werkzeug:127.0.0.1 - - [03/Dec/2024 18:05:45] \"\u001b[31m\u001b[1mPOST /detect_emotion HTTP/1.1\u001b[0m\" 400 -\n"
     ]
    },
    {
     "name": "stdout",
     "output_type": "stream",
     "text": [
      "\u001b[1m1/1\u001b[0m \u001b[32m━━━━━━━━━━━━━━━━━━━━\u001b[0m\u001b[37m\u001b[0m \u001b[1m0s\u001b[0m 17ms/step\n"
     ]
    },
    {
     "name": "stderr",
     "output_type": "stream",
     "text": [
      "INFO:werkzeug:127.0.0.1 - - [03/Dec/2024 18:05:48] \"POST /detect_emotion HTTP/1.1\" 200 -\n"
     ]
    }
   ],
   "source": [
    "import cv2\n",
    "import numpy as np\n",
    "import pandas as pd\n",
    "from tensorflow.keras.models import load_model\n",
    "from flask import Flask, jsonify\n",
    "import threading\n",
    "\n",
    "# Muat model deteksi ekspresi wajah\n",
    "model = load_model('emotion_model.h5')  # Pastikan Anda memiliki model deteksi ekspresi wajah\n",
    "\n",
    "# Muat dataset movies.csv untuk rekomendasi\n",
    "movies_df = pd.read_csv('emotion_service/dataset/processed_movies.csv')\n",
    "\n",
    "# Daftar ekspresi yang dapat dikenali\n",
    "emotion_labels = ['Angry', 'Disguist', 'Fear', 'Happy', 'Sad', 'Surprise', 'Neutral']\n",
    "\n",
    "# Muat model deteksi wajah\n",
    "face_cascade = cv2.CascadeClassifier(cv2.data.haarcascades + 'haarcascade_frontalface_default.xml')\n",
    "\n",
    "# Fungsi untuk merekomendasikan film berdasarkan ekspresi\n",
    "def recommend_movies(emotion):\n",
    "    recommendations = {\n",
    "        'Happy': ['Comedy', 'Romantic', 'Action'],\n",
    "        'Sad': ['Comedy', 'Drama', 'Romantic'],\n",
    "        'Angry': ['Action', 'Thriller', 'Comedy'],\n",
    "        'Fear': ['Horror', 'Mystery','Fantasy'],\n",
    "        'Surprise': ['Fantasy', 'Action', 'Thriller'],\n",
    "        'Neutral': ['Adventure', 'Animation'],\n",
    "        'Disguist': ['Horror', 'Thriller']\n",
    "    }\n",
    "\n",
    "    genres = recommendations.get(emotion, ['General'])\n",
    "    recommended_movies = movies_df[movies_df['genres'].isin(genres)]\n",
    "    return recommended_movies[['title', 'genres']].to_dict(orient='records')\n",
    "\n",
    "# Flask Setup\n",
    "app = Flask(__name__)\n",
    "\n",
    "@app.route('/detect_emotion', methods=['POST'])\n",
    "def detect_emotion_from_face():\n",
    "    # Capture image from webcam (or send image through API)\n",
    "    cap = cv2.VideoCapture(0)\n",
    "    ret, frame = cap.read()\n",
    "    cap.release()\n",
    "    if not ret:\n",
    "        return jsonify({\"error\": \"Failed to capture image\"}), 400\n",
    "\n",
    "    gray = cv2.cvtColor(frame, cv2.COLOR_BGR2GRAY)\n",
    "    faces = face_cascade.detectMultiScale(gray, 1.1, 4)\n",
    "\n",
    "    if len(faces) == 0:\n",
    "        return jsonify({\"error\": \"No face detected\"}), 400\n",
    "\n",
    "    # Ambil wajah pertama yang terdeteksi\n",
    "    (x, y, w, h) = faces[0]\n",
    "    face = frame[y:y + h, x:x + w]\n",
    "    face = cv2.cvtColor(face, cv2.COLOR_BGR2RGB)\n",
    "    face = cv2.resize(face, (48, 48))  # Mengubah ukuran sesuai model\n",
    "    face = face / 255.0\n",
    "    face = np.expand_dims(face, axis=0)\n",
    "\n",
    "    # Prediksi ekspresi wajah\n",
    "    emotion_prob = model.predict(face)\n",
    "    max_index = np.argmax(emotion_prob[0])\n",
    "    emotion = emotion_labels[max_index]\n",
    "\n",
    "    # Mengambil rekomendasi film\n",
    "    recommended_movies = recommend_movies(emotion)\n",
    "\n",
    "    return jsonify({\n",
    "        'emotion': emotion,\n",
    "        'recommended_movies': recommended_movies\n",
    "    })\n",
    "\n",
    "# Fungsi untuk menjalankan Flask server di background\n",
    "def run_flask():\n",
    "    app.run(debug=True, use_reloader=False)\n",
    "\n",
    "# Menjalankan Flask API di thread terpisah\n",
    "flask_thread = threading.Thread(target=run_flask)\n",
    "flask_thread.start()"
   ]
  },
  {
   "cell_type": "code",
   "execution_count": null,
   "id": "5db2eaf2-8b4d-46d3-9d08-b90ef5e24d82",
   "metadata": {},
   "outputs": [],
   "source": []
  }
 ],
 "metadata": {
  "kernelspec": {
   "display_name": "Python 3 (ipykernel)",
   "language": "python",
   "name": "python3"
  },
  "language_info": {
   "codemirror_mode": {
    "name": "ipython",
    "version": 3
   },
   "file_extension": ".py",
   "mimetype": "text/x-python",
   "name": "python",
   "nbconvert_exporter": "python",
   "pygments_lexer": "ipython3",
   "version": "3.12.4"
  }
 },
 "nbformat": 4,
 "nbformat_minor": 5
}
