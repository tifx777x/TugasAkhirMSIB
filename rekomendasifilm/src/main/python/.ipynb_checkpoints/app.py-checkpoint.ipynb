{
 "cells": [
  {
   "cell_type": "code",
   "execution_count": null,
   "id": "abeee3b1-3de4-4ab7-bb6b-39f5d59b8c3b",
   "metadata": {},
   "outputs": [],
   "source": [
    "from flask import Flask, request, jsonify\n",
    "import cv2\n",
    "import base64\n",
    "import numpy as np\n",
    "from deepface import DeepFace\n",
    "import pandas as pd\n",
    "import io\n",
    "\n",
    "app = Flask(__name__)\n",
    "\n",
    "# Muat dataset film (pastikan file movies.csv berada di direktori yang sama dengan app.py)\n",
    "movies = pd.read_csv('movies.csv')  # Gantilah dengan path dataset Anda\n",
    "\n",
    "# Muat model deteksi wajah\n",
    "face_cascade = cv2.CascadeClassifier(cv2.data.haarcascades + 'haarcascade_frontalface_default.xml')\n",
    "\n",
    "# Fungsi untuk menentukan genre berdasarkan emosi\n",
    "def get_recommendations_by_emotion(emotion):\n",
    "    if emotion == 'sad':\n",
    "        return ['Comedy', 'Family', 'Drama']\n",
    "    elif emotion == 'happy':\n",
    "        return ['Romance', 'Adventure', 'Drama']\n",
    "    elif emotion == 'angry':\n",
    "        return ['Action', 'Thriller', 'Crime']\n",
    "    elif emotion == 'surprise':\n",
    "        return ['Horror', 'Mystery', 'Thriller']\n",
    "    else:\n",
    "        return ['Popular', 'Action', 'Comedy']\n",
    "\n",
    "# Fungsi untuk memproses gambar dan mendapatkan rekomendasi\n",
    "def process_image(image_data):\n",
    "    # Decode gambar dari base64\n",
    "    img_data = base64.b64decode(image_data)\n",
    "    np_arr = np.frombuffer(img_data, np.uint8)\n",
    "    frame = cv2.imdecode(np_arr, cv2.IMREAD_COLOR)\n",
    "\n",
    "    # Konversi frame ke grayscale untuk deteksi wajah\n",
    "    gray"
   ]
  }
 ],
 "metadata": {
  "kernelspec": {
   "display_name": "Python 3 (ipykernel)",
   "language": "python",
   "name": "python3"
  },
  "language_info": {
   "codemirror_mode": {
    "name": "ipython",
    "version": 3
   },
   "file_extension": ".py",
   "mimetype": "text/x-python",
   "name": "python",
   "nbconvert_exporter": "python",
   "pygments_lexer": "ipython3",
   "version": "3.12.4"
  }
 },
 "nbformat": 4,
 "nbformat_minor": 5
}
