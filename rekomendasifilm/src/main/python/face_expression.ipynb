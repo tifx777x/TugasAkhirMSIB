{
 "cells": [
  {
   "cell_type": "code",
   "execution_count": 1,
   "id": "480bf874-1ba6-4e67-9661-12f47eaacfb0",
   "metadata": {
    "scrolled": true
   },
   "outputs": [
    {
     "name": "stdout",
     "output_type": "stream",
     "text": [
      " * Serving Flask app '__main__'\n",
      " * Debug mode: on\n"
     ]
    },
    {
     "name": "stderr",
     "output_type": "stream",
     "text": [
      "WARNING: This is a development server. Do not use it in a production deployment. Use a production WSGI server instead.\n",
      " * Running on http://127.0.0.1:5000\n",
      "Press CTRL+C to quit\n",
      "127.0.0.1 - - [04/Dec/2024 16:23:16] \"POST /detect_emotion HTTP/1.1\" 400 -\n"
     ]
    },
    {
     "name": "stdout",
     "output_type": "stream",
     "text": [
      "\u001b[1m1/1\u001b[0m \u001b[32m━━━━━━━━━━━━━━━━━━━━\u001b[0m\u001b[37m\u001b[0m \u001b[1m1s\u001b[0m 1s/step\n"
     ]
    },
    {
     "name": "stderr",
     "output_type": "stream",
     "text": [
      "127.0.0.1 - - [04/Dec/2024 16:23:19] \"POST /detect_emotion HTTP/1.1\" 200 -\n"
     ]
    }
   ],
   "source": [
    "import cv2\n",
    "import numpy as np\n",
    "import pandas as pd\n",
    "from tensorflow.keras.models import load_model\n",
    "from flask import Flask, jsonify\n",
    "import threading\n",
    "\n",
    "# Muat model deteksi ekspresi wajah\n",
    "model = load_model('emotion_model.keras')  # Pastikan Anda memiliki model deteksi ekspresi wajah\n",
    "\n",
    "# Muat dataset movies.csv untuk rekomendasi\n",
    "movies_df = pd.read_csv('emotion_service/dataset/processed_movies.csv')\n",
    "\n",
    "# Daftar ekspresi yang dapat dikenali\n",
    "emotion_labels = ['Angry', 'Disguist', 'Fear', 'Happy', 'Sad', 'Surprise', 'Neutral']\n",
    "\n",
    "# Muat model deteksi wajah\n",
    "face_cascade = cv2.CascadeClassifier(cv2.data.haarcascades + 'haarcascade_frontalface_default.xml')\n",
    "\n",
    "# Fungsi untuk merekomendasikan film berdasarkan ekspresi\n",
    "def recommend_movies(emotion):\n",
    "    recommendations = {\n",
    "        'Happy': ['Comedy', 'Romantic', 'Action'],\n",
    "        'Sad': ['Comedy', 'Drama', 'Romantic'],\n",
    "        'Angry': ['Action', 'Thriller', 'Comedy'],\n",
    "        'Fear': ['Horror', 'Mystery','Fantasy'],\n",
    "        'Surprise': ['Fantasy', 'Action', 'Thriller'],\n",
    "        'Neutral': ['Adventure', 'Animation'],\n",
    "        'Disguist': ['Horror', 'Thriller']\n",
    "    }\n",
    "\n",
    "    genres = recommendations.get(emotion, ['General'])\n",
    "    recommended_movies = movies_df[movies_df['genres'].isin(genres)]\n",
    "    return recommended_movies[['title', 'genres']].to_dict(orient='records')\n",
    "\n",
    "# Flask Setup\n",
    "app = Flask(__name__)\n",
    "\n",
    "@app.route('/detect_emotion', methods=['POST'])\n",
    "def detect_emotion_from_face():\n",
    "    # Capture image from webcam (or send image through API)\n",
    "    cap = cv2.VideoCapture(0)\n",
    "    ret, frame = cap.read()\n",
    "    cap.release()\n",
    "    if not ret:\n",
    "        return jsonify({\"error\": \"Failed to capture image\"}), 400\n",
    "\n",
    "    gray = cv2.cvtColor(frame, cv2.COLOR_BGR2GRAY)\n",
    "    faces = face_cascade.detectMultiScale(gray, 1.1, 4)\n",
    "\n",
    "    if len(faces) == 0:\n",
    "        return jsonify({\"error\": \"No face detected\"}), 400\n",
    "\n",
    "    # Ambil wajah pertama yang terdeteksi\n",
    "    (x, y, w, h) = faces[0]\n",
    "    face = frame[y:y + h, x:x + w]\n",
    "    face = cv2.cvtColor(face, cv2.COLOR_BGR2RGB)\n",
    "    face = cv2.resize(face, (48, 48))  # Mengubah ukuran sesuai model\n",
    "    face = face / 255.0\n",
    "    face = np.expand_dims(face, axis=0)\n",
    "\n",
    "    # Prediksi ekspresi wajah\n",
    "    emotion_prob = model.predict(face)\n",
    "    max_index = np.argmax(emotion_prob[0])\n",
    "    emotion = emotion_labels[max_index]\n",
    "\n",
    "    # Mengambil rekomendasi film\n",
    "    recommended_movies = recommend_movies(emotion)\n",
    "\n",
    "\n",
    "    return jsonify({\n",
    "        'emotion': emotion,\n",
    "        'recommended_movies': recommended_movies\n",
    "    })\n",
    "\n",
    "# Fungsi untuk menjalankan Flask server di background\n",
    "def run_flask():\n",
    "    app.run(debug=True, use_reloader=False)\n",
    "\n",
    "# Menjalankan Flask API di thread terpisah\n",
    "flask_thread = threading.Thread(target=run_flask)\n",
    "flask_thread.start()"
   ]
  },
  {
   "cell_type": "code",
   "execution_count": 3,
   "id": "335b004a-1b9e-4b76-a7aa-5ec2de83774f",
   "metadata": {},
   "outputs": [
    {
     "name": "stdout",
     "output_type": "stream",
     "text": [
      "Note: you may need to restart the kernel to use updated packages.\n"
     ]
    },
    {
     "name": "stderr",
     "output_type": "stream",
     "text": [
      "ERROR: unknown command \"python\"\n",
      "\n"
     ]
    },
    {
     "name": "stdout",
     "output_type": "stream",
     "text": [
      "\u001b[1m1/1\u001b[0m \u001b[32m━━━━━━━━━━━━━━━━━━━━\u001b[0m\u001b[37m\u001b[0m \u001b[1m0s\u001b[0m 89ms/step\n"
     ]
    },
    {
     "name": "stderr",
     "output_type": "stream",
     "text": [
      "127.0.0.1 - - [04/Dec/2024 16:25:48] \"POST /detect_emotion HTTP/1.1\" 200 -\n"
     ]
    },
    {
     "name": "stdout",
     "output_type": "stream",
     "text": [
      "\u001b[1m1/1\u001b[0m \u001b[32m━━━━━━━━━━━━━━━━━━━━\u001b[0m\u001b[37m\u001b[0m \u001b[1m0s\u001b[0m 17ms/step\n"
     ]
    },
    {
     "name": "stderr",
     "output_type": "stream",
     "text": [
      "127.0.0.1 - - [04/Dec/2024 16:25:53] \"POST /detect_emotion HTTP/1.1\" 200 -\n"
     ]
    },
    {
     "name": "stdout",
     "output_type": "stream",
     "text": [
      "\u001b[1m1/1\u001b[0m \u001b[32m━━━━━━━━━━━━━━━━━━━━\u001b[0m\u001b[37m\u001b[0m \u001b[1m0s\u001b[0m 53ms/step\n"
     ]
    },
    {
     "name": "stderr",
     "output_type": "stream",
     "text": [
      "127.0.0.1 - - [04/Dec/2024 16:25:58] \"POST /detect_emotion HTTP/1.1\" 200 -\n"
     ]
    },
    {
     "name": "stdout",
     "output_type": "stream",
     "text": [
      "\u001b[1m1/1\u001b[0m \u001b[32m━━━━━━━━━━━━━━━━━━━━\u001b[0m\u001b[37m\u001b[0m \u001b[1m0s\u001b[0m 18ms/step\n"
     ]
    },
    {
     "name": "stderr",
     "output_type": "stream",
     "text": [
      "127.0.0.1 - - [04/Dec/2024 16:26:01] \"POST /detect_emotion HTTP/1.1\" 200 -\n"
     ]
    },
    {
     "name": "stdout",
     "output_type": "stream",
     "text": [
      "\u001b[1m1/1\u001b[0m \u001b[32m━━━━━━━━━━━━━━━━━━━━\u001b[0m\u001b[37m\u001b[0m \u001b[1m0s\u001b[0m 16ms/step\n"
     ]
    },
    {
     "name": "stderr",
     "output_type": "stream",
     "text": [
      "127.0.0.1 - - [04/Dec/2024 16:26:05] \"POST /detect_emotion HTTP/1.1\" 200 -\n"
     ]
    },
    {
     "name": "stdout",
     "output_type": "stream",
     "text": [
      "\u001b[1m1/1\u001b[0m \u001b[32m━━━━━━━━━━━━━━━━━━━━\u001b[0m\u001b[37m\u001b[0m \u001b[1m0s\u001b[0m 17ms/step\n"
     ]
    },
    {
     "name": "stderr",
     "output_type": "stream",
     "text": [
      "127.0.0.1 - - [04/Dec/2024 16:28:30] \"POST /detect_emotion HTTP/1.1\" 200 -\n"
     ]
    }
   ],
   "source": [
    "pip python --version"
   ]
  },
  {
   "cell_type": "code",
   "execution_count": null,
   "id": "3c24a9b7-8530-4829-b1ae-a536e5d58e70",
   "metadata": {},
   "outputs": [],
   "source": []
  }
 ],
 "metadata": {
  "kernelspec": {
   "display_name": "Python 3 (ipykernel)",
   "language": "python",
   "name": "python3"
  },
  "language_info": {
   "codemirror_mode": {
    "name": "ipython",
    "version": 3
   },
   "file_extension": ".py",
   "mimetype": "text/x-python",
   "name": "python",
   "nbconvert_exporter": "python",
   "pygments_lexer": "ipython3",
   "version": "3.12.4"
  }
 },
 "nbformat": 4,
 "nbformat_minor": 5
}
